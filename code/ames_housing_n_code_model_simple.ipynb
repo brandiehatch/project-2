{
 "cells": [
  {
   "cell_type": "markdown",
   "metadata": {},
   "source": [
    "# Ames Housing: Project 2\n",
    "#### Brandie Hatch\n",
    "\n",
    "## Define the Problem"
   ]
  },
  {
   "cell_type": "markdown",
   "metadata": {},
   "source": [
    "Interest: increase housing access for Black or African American individuals and families in Ames, Iowa. <br>\n",
    "\n",
    "Goal: Using the Ames, Iowa Housing Kaggle data set, Census Demographic Data for population density by race and hispanic origin along with the Income by Location Median Household Income map create a model to predict the Sales Price of houses in a certain area of Ames, Iowa. <br>\n",
    "\n",
    "Problem: As the Black or African American populations rise in a census tract area, how does the sale price of houses in Ames, Iowa change? \n",
    "\n",
    "__Null Hypothesis:__  There is a negative association between a high percent of Black population and the sale price (as the Black population rises, sale price goes down).\n",
    "\n",
    "__Alternative Hypothesis:__ There is not a negative association between high percent of population and the sale price.\n"
   ]
  },
  {
   "cell_type": "markdown",
   "metadata": {},
   "source": [
    "## Background"
   ]
  },
  {
   "cell_type": "markdown",
   "metadata": {},
   "source": [
    "The Ames population was estimated at 58,965 during the 2010 Census. This includes student enrollment at ISU. Iowa State University of Science and Technology (ISU) serves over 36,000 students from all over the world and is located in the heart of Ames, Iowa. \n",
    "https://www.cityofames.org/about-ames/interesting-facts-about-ames<br>\n",
    "\n",
    "Across the United States, Black homeowner rates have only increased 1.2% between 1970 and 2019. Historic real estate practices still plague the market today even though they have been outlawed since the Fair Housing Act of 1968 was passed. The Fair Housing Act prohibits private and public housing discrimination and requires the federal government to administer all federal housing and community development programs to affirm fair housing practices. <br>\n",
    "\n",
    "Unfortunately, discrimination still occurs. Redlining is the historic act of deeming certain areas as excessively risky for investment. As noted in the NPR article __Black Americans and the Racist Architecture of Homeownership__ [May 8, 2021](https://www.npr.org/sections/codeswitch/2021/05/08/991535564/black-americans-and-the-racist-architecture-of-homeownership), \"one way Black people and other minority groups were left out systematically was through a process known as \"redlining\" which labeled certain areas as \"risky\" for a home loan. African Americans and immigrants were relegated to areas, marked in red on government-sponsored maps, where poverty was most concentrated and housing was deteriorating.\" <br>\n",
    "\n",
    "Today, the term “redlining” is used to describe certain historic race-based segregating tactics in real estate — from estate agents directing Black home buyers and renters to certain neighborhoods and away from others to racial rules in many suburbs and developments. \"Houses that are essentially the same with the exception of one being in a majority Black neighborhood and one in a majority white neighborhood have almost a 50 percent difference in value\", Twedt-Ball said in the Iowa newspaper [The Gazette](https://www.thegazette.com/education/redlining-continues-to-create-racial-disparity-in-homeownership-in-cedar-rapids-iowa/).<br>\n",
    "\n",
    "Many of the same neighborhoods that were redlined in the past continue to high poverty rates, lower median household incomes, and higher levels of marginalized populations. \"Historically redlined areas have been cumulatively affected by a low prevalence of home ownership, uneven economic development, displacement of residents, and lack of access to education and economic opportunities.\" From: (https://publichealth.berkeley.edu/news-media/research-highlights/research-more-oil-and-gas-wells-in-redlined-neighborhoods/)"
   ]
  },
  {
   "cell_type": "markdown",
   "metadata": {},
   "source": [
    "## Data Import"
   ]
  },
  {
   "cell_type": "code",
   "execution_count": 213,
   "metadata": {},
   "outputs": [],
   "source": [
    "# Imports\n",
    "import pandas as pd\n",
    "import numpy as np\n",
    "import matplotlib.pyplot as plt\n",
    "import seaborn as sns\n",
    "import scipy.stats as stats\n",
    "import statsmodels.api as sm\n",
    "\n",
    "\n",
    "%matplotlib inline\n",
    "\n",
    "\n",
    "from sklearn.linear_model import LinearRegression, LogisticRegression, LassoCV, RidgeCV, Ridge, Lasso, ElasticNet, ElasticNetCV\n",
    "from sklearn.metrics import mean_squared_error, r2_score, mean_absolute_error, confusion_matrix, plot_confusion_matrix, ConfusionMatrixDisplay\n",
    "from sklearn.neighbors import KNeighborsRegressor\n",
    "from sklearn.model_selection import train_test_split, cross_val_score, cross_val_predict, GridSearchCV\n",
    "from sklearn.preprocessing import StandardScaler, PolynomialFeatures, OneHotEncoder\n",
    "from sklearn.pipeline import Pipeline\n",
    "from sklearn.compose import make_column_transformer, ColumnTransformer, TransformedTargetRegressor\n",
    "\n",
    "pd.options.display.max_columns =999"
   ]
  },
  {
   "cell_type": "code",
   "execution_count": 103,
   "metadata": {},
   "outputs": [],
   "source": [
    "ames_train = pd.read_csv('../data/train.csv')\n",
    "ames_test = pd.read_csv('../data/test.csv')"
   ]
  },
  {
   "cell_type": "code",
   "execution_count": 104,
   "metadata": {},
   "outputs": [],
   "source": [
    "# rename columns to snake_case \n",
    "ames_train.columns = ames_train.columns.str.lower().str.replace(' ', '_')\n",
    "ames_test.columns = ames_test.columns.str.lower().str.replace(' ', '_')\n",
    "\n",
    "# change column name for \"year_remod/add\" to remove the \"/\"\"\n",
    "ames_train.columns = ['year_remod_add' if x=='year_remod/add' else x for x in ames_train.columns]\n",
    "ames_test.columns = ['year_remod_add' if x=='year_remod/add' else x for x in ames_test.columns]"
   ]
  },
  {
   "cell_type": "markdown",
   "metadata": {},
   "source": [
    "## Data Exploration"
   ]
  },
  {
   "cell_type": "code",
   "execution_count": 105,
   "metadata": {},
   "outputs": [
    {
     "name": "stdout",
     "output_type": "stream",
     "text": [
      "(2051, 81) (878, 80)\n",
      "{'saleprice'}\n"
     ]
    }
   ],
   "source": [
    "# The number of columns is different because the test dataset does not have the Saleprice column.\n",
    "print(ames_train.shape, ames_test.shape)\n",
    "print(set(ames_train.columns) - set(ames_test.columns))"
   ]
  },
  {
   "cell_type": "code",
   "execution_count": 106,
   "metadata": {},
   "outputs": [
    {
     "data": {
      "text/plain": [
       "pool_qc           2042\n",
       "misc_feature      1986\n",
       "alley             1911\n",
       "fence             1651\n",
       "fireplace_qu      1000\n",
       "lot_frontage       330\n",
       "garage_finish      114\n",
       "garage_qual        114\n",
       "garage_yr_blt      114\n",
       "garage_cond        114\n",
       "garage_type        113\n",
       "bsmt_exposure       58\n",
       "bsmtfin_type_2      56\n",
       "bsmtfin_type_1      55\n",
       "bsmt_cond           55\n",
       "bsmt_qual           55\n",
       "mas_vnr_area        22\n",
       "mas_vnr_type        22\n",
       "bsmt_half_bath       2\n",
       "bsmt_full_bath       2\n",
       "garage_area          1\n",
       "total_bsmt_sf        1\n",
       "bsmt_unf_sf          1\n",
       "bsmtfin_sf_2         1\n",
       "bsmtfin_sf_1         1\n",
       "garage_cars          1\n",
       "dtype: int64"
      ]
     },
     "execution_count": 106,
     "metadata": {},
     "output_type": "execute_result"
    }
   ],
   "source": [
    "ames_train.isnull().sum().sort_values(ascending=False).loc[lambda x: x > 0]\n",
    "# None of the columns planned to be used hold null or na data, so no columns will be removed at this point"
   ]
  },
  {
   "cell_type": "code",
   "execution_count": 107,
   "metadata": {},
   "outputs": [
    {
     "data": {
      "text/plain": [
       "pool_qc           874\n",
       "misc_feature      837\n",
       "alley             820\n",
       "fence             706\n",
       "fireplace_qu      422\n",
       "lot_frontage      160\n",
       "garage_yr_blt      45\n",
       "garage_finish      45\n",
       "garage_qual        45\n",
       "garage_cond        45\n",
       "garage_type        44\n",
       "bsmtfin_type_1     25\n",
       "bsmt_qual          25\n",
       "bsmt_cond          25\n",
       "bsmt_exposure      25\n",
       "bsmtfin_type_2     25\n",
       "electrical          1\n",
       "mas_vnr_type        1\n",
       "mas_vnr_area        1\n",
       "dtype: int64"
      ]
     },
     "execution_count": 107,
     "metadata": {},
     "output_type": "execute_result"
    }
   ],
   "source": [
    "ames_test.isnull().sum().sort_values(ascending=False).loc[lambda x: x >0]\n",
    "# None of the columns planned to be used hold null or na data"
   ]
  },
  {
   "cell_type": "markdown",
   "metadata": {},
   "source": [
    "The following boxplots for year built show some outliers that are within a normal range for historic housing."
   ]
  },
  {
   "cell_type": "code",
   "execution_count": 108,
   "metadata": {},
   "outputs": [
    {
     "name": "stderr",
     "output_type": "stream",
     "text": [
      "C:\\Users\\hatch\\anaconda3\\lib\\site-packages\\seaborn\\_decorators.py:36: FutureWarning: Pass the following variable as a keyword arg: x. From version 0.12, the only valid positional argument will be `data`, and passing other arguments without an explicit keyword will result in an error or misinterpretation.\n",
      "  warnings.warn(\n"
     ]
    },
    {
     "data": {
      "image/png": "[encoded data removed]",
      "text/plain": [
       "<Figure size 432x288 with 1 Axes>"
      ]
     },
     "metadata": {
      "needs_background": "light"
     },
     "output_type": "display_data"
    }
   ],
   "source": [
    "sns.boxplot(ames_train.year_built);"
   ]
  },
  {
   "cell_type": "code",
   "execution_count": 109,
   "metadata": {},
   "outputs": [
    {
     "name": "stderr",
     "output_type": "stream",
     "text": [
      "C:\\Users\\hatch\\anaconda3\\lib\\site-packages\\seaborn\\_decorators.py:36: FutureWarning: Pass the following variable as a keyword arg: x. From version 0.12, the only valid positional argument will be `data`, and passing other arguments without an explicit keyword will result in an error or misinterpretation.\n",
      "  warnings.warn(\n"
     ]
    },
    {
     "data": {
      "image/png": "[encoded data removed]",
      "text/plain": [
       "<Figure size 432x288 with 1 Axes>"
      ]
     },
     "metadata": {
      "needs_background": "light"
     },
     "output_type": "display_data"
    }
   ],
   "source": [
    "sns.boxplot(ames_test.year_built);"
   ]
  },
  {
   "cell_type": "markdown",
   "metadata": {},
   "source": [
    "The following boxplots for year where the house had an addition built or parts remodeled show only one strange outlier before 1950. Both train and test datasets have it. The minimum value of the column was at 1950, so the outlier must be showing that minimum year."
   ]
  },
  {
   "cell_type": "code",
   "execution_count": 110,
   "metadata": {},
   "outputs": [
    {
     "data": {
      "text/plain": [
       "count    2051.000000\n",
       "mean     1984.190151\n",
       "std        21.036250\n",
       "min      1950.000000\n",
       "25%      1964.500000\n",
       "50%      1993.000000\n",
       "75%      2004.000000\n",
       "max      2010.000000\n",
       "Name: year_remod_add, dtype: float64"
      ]
     },
     "execution_count": 110,
     "metadata": {},
     "output_type": "execute_result"
    }
   ],
   "source": [
    "ames_train['year_remod_add'].describe()"
   ]
  },
  {
   "cell_type": "code",
   "execution_count": 111,
   "metadata": {},
   "outputs": [
    {
     "name": "stderr",
     "output_type": "stream",
     "text": [
      "C:\\Users\\hatch\\anaconda3\\lib\\site-packages\\seaborn\\_decorators.py:36: FutureWarning: Pass the following variable as a keyword arg: x. From version 0.12, the only valid positional argument will be `data`, and passing other arguments without an explicit keyword will result in an error or misinterpretation.\n",
      "  warnings.warn(\n"
     ]
    },
    {
     "data": {
      "image/png": "[encoded data removed]",
      "text/plain": [
       "<Figure size 432x288 with 1 Axes>"
      ]
     },
     "metadata": {
      "needs_background": "light"
     },
     "output_type": "display_data"
    }
   ],
   "source": [
    "sns.boxplot(ames_train.year_remod_add);"
   ]
  },
  {
   "cell_type": "code",
   "execution_count": 112,
   "metadata": {},
   "outputs": [
    {
     "name": "stderr",
     "output_type": "stream",
     "text": [
      "C:\\Users\\hatch\\anaconda3\\lib\\site-packages\\seaborn\\_decorators.py:36: FutureWarning: Pass the following variable as a keyword arg: x. From version 0.12, the only valid positional argument will be `data`, and passing other arguments without an explicit keyword will result in an error or misinterpretation.\n",
      "  warnings.warn(\n"
     ]
    },
    {
     "data": {
      "image/png": "[encoded data removed]",
      "text/plain": [
       "<Figure size 432x288 with 1 Axes>"
      ]
     },
     "metadata": {
      "needs_background": "light"
     },
     "output_type": "display_data"
    }
   ],
   "source": [
    "sns.boxplot(ames_test.year_remod_add);"
   ]
  },
  {
   "cell_type": "markdown",
   "metadata": {},
   "source": [
    "The two boxplots for ms_subclass identify the type of dwelling involved in the sale. It is logical for there to be a couple of outliers at the higher end of the data (especially since none go over the max 190) because the dictionary shows those as different types of Planned Unit Developments (PUD). [A PUD is a community of single family homes. The homes could be condos or townhomes and there is often a homeowners association (HOA)](https://www.forbes.com/advisor/mortgages/what-is-a-planned-unit-development/)."
   ]
  },
  {
   "cell_type": "code",
   "execution_count": 113,
   "metadata": {},
   "outputs": [
    {
     "name": "stderr",
     "output_type": "stream",
     "text": [
      "C:\\Users\\hatch\\anaconda3\\lib\\site-packages\\seaborn\\_decorators.py:36: FutureWarning: Pass the following variable as a keyword arg: x. From version 0.12, the only valid positional argument will be `data`, and passing other arguments without an explicit keyword will result in an error or misinterpretation.\n",
      "  warnings.warn(\n"
     ]
    },
    {
     "data": {
      "image/png": "[encoded data removed]",
      "text/plain": [
       "<Figure size 432x288 with 1 Axes>"
      ]
     },
     "metadata": {
      "needs_background": "light"
     },
     "output_type": "display_data"
    }
   ],
   "source": [
    "sns.boxplot(ames_train.ms_subclass);"
   ]
  },
  {
   "cell_type": "code",
   "execution_count": 114,
   "metadata": {},
   "outputs": [
    {
     "name": "stderr",
     "output_type": "stream",
     "text": [
      "C:\\Users\\hatch\\anaconda3\\lib\\site-packages\\seaborn\\_decorators.py:36: FutureWarning: Pass the following variable as a keyword arg: x. From version 0.12, the only valid positional argument will be `data`, and passing other arguments without an explicit keyword will result in an error or misinterpretation.\n",
      "  warnings.warn(\n"
     ]
    },
    {
     "data": {
      "image/png": "[encoded data removed]",
      "text/plain": [
       "<Figure size 432x288 with 1 Axes>"
      ]
     },
     "metadata": {
      "needs_background": "light"
     },
     "output_type": "display_data"
    }
   ],
   "source": [
    "sns.boxplot(ames_test.ms_subclass);"
   ]
  },
  {
   "cell_type": "code",
   "execution_count": 115,
   "metadata": {},
   "outputs": [
    {
     "data": {
      "text/plain": [
       "count    2051.000000\n",
       "mean       57.008776\n",
       "std        42.824223\n",
       "min        20.000000\n",
       "25%        20.000000\n",
       "50%        50.000000\n",
       "75%        70.000000\n",
       "max       190.000000\n",
       "Name: ms_subclass, dtype: float64"
      ]
     },
     "execution_count": 115,
     "metadata": {},
     "output_type": "execute_result"
    }
   ],
   "source": [
    "ames_train['ms_subclass'].describe()"
   ]
  },
  {
   "cell_type": "code",
   "execution_count": 116,
   "metadata": {},
   "outputs": [
    {
     "data": {
      "text/plain": [
       "<matplotlib.collections.PathCollection at 0x1e1931ba6a0>"
      ]
     },
     "execution_count": 116,
     "metadata": {},
     "output_type": "execute_result"
    },
    {
     "data": {
      "image/png": "[encoded data removed]",
      "text/plain": [
       "<Figure size 432x288 with 1 Axes>"
      ]
     },
     "metadata": {
      "needs_background": "light"
     },
     "output_type": "display_data"
    }
   ],
   "source": [
    "# viewed a quick scatter plot to see if there were any direct correlations beetween saleprice and neighborhood.\n",
    "plt.scatter(x='saleprice', y='neighborhood', data=ames_train)"
   ]
  },
  {
   "cell_type": "code",
   "execution_count": 117,
   "metadata": {},
   "outputs": [
    {
     "data": {
      "image/png": "[encoded data removed]",
      "text/plain": [
       "<Figure size 1152x720 with 1 Axes>"
      ]
     },
     "metadata": {
      "needs_background": "light"
     },
     "output_type": "display_data"
    }
   ],
   "source": [
    "# viewed a bar plot to see if there were any significant differences with the neighborhoods and saleprice\n",
    "neighborhoods = ames_train.sort_values(by='saleprice', ascending=False)\n",
    "plt.figure(figsize=(16, 10))\n",
    "plt.barh(\n",
    "    y='neighborhood',\n",
    "    width='saleprice',\n",
    "    data=neighborhoods\n",
    ")\n",
    "plt.title(\"Neighborhood and Saleprice Comparison\", fontdict={\"fontsize\": 24})\n",
    "plt.xlabel(\"Saleprice in Dollars\", fontsize = 16)\n",
    "plt.ylabel(\"Neighborhood\", fontsize = 16);"
   ]
  },
  {
   "cell_type": "markdown",
   "metadata": {},
   "source": [
    "## Feature Engineering"
   ]
  },
  {
   "cell_type": "code",
   "execution_count": 118,
   "metadata": {},
   "outputs": [],
   "source": [
    "# Duplicate and rename neighborhood column to create the beginning of the neighborhood code 'n_code' column for future feature use\n",
    "ames_train['n_code'] = ames_train['neighborhood']\n",
    "ames_test['n_code'] = ames_test['neighborhood']"
   ]
  },
  {
   "cell_type": "code",
   "execution_count": 119,
   "metadata": {},
   "outputs": [],
   "source": [
    "neighborhood_6sort_dict = {\n",
    "    'Blmngtn': 'N',\n",
    "    'Blueste': 'SWISU',\n",
    "    'BrDale': 'N',\n",
    "    'BrkSide': 'E',\n",
    "    'ClearCr': 'NW',\n",
    "    'CollgCr': 'S',\n",
    "    'Crawfor': 'SWISU',\n",
    "    'Edwards': 'S',\n",
    "    'Gilbert': 'N',\n",
    "    'Greens': 'ISU',\n",
    "    'GrnHill': 'S',\n",
    "    'IDOTRR': 'E',\n",
    "    'Landmrk': 'ISU',\n",
    "    'MeadowV': 'S',\n",
    "    'Mitchel': 'S',\n",
    "    'NAmes': 'N',\n",
    "    'NoRidge': 'N',\n",
    "    'NPkVill': 'N',\n",
    "    'NridgHt': 'N',\n",
    "    'NWAmes': 'N',\n",
    "    'OldTown': 'E',\n",
    "    'Sawyer': 'NW',\n",
    "    'SawyerW': 'NW',\n",
    "    'Somerst': 'N',\n",
    "    'StoneBr': 'N',\n",
    "    'SWISU': 'SWISU',\n",
    "    'Timber': 'S',\n",
    "    'Veenker': 'NW'\n",
    "}"
   ]
  },
  {
   "cell_type": "code",
   "execution_count": 120,
   "metadata": {},
   "outputs": [],
   "source": [
    "# replace the copied data with the dictionary data to create a new mapped column\n",
    "ames_train = ames_train.replace({'n_code': neighborhood_6sort_dict})\n",
    "ames_test = ames_test.replace({'n_code': neighborhood_6sort_dict})"
   ]
  },
  {
   "cell_type": "code",
   "execution_count": 121,
   "metadata": {},
   "outputs": [],
   "source": [
    "# Duplicate and rename neighborhood column to create the beginning of the neighborhood code 'percent_pop' column for future feature use\n",
    "ames_train['percent_pop'] = ames_train['neighborhood']\n",
    "ames_test['percent_pop'] = ames_test['neighborhood']"
   ]
  },
  {
   "cell_type": "code",
   "execution_count": 122,
   "metadata": {},
   "outputs": [],
   "source": [
    "neighborhood_percentpop_dict = {\n",
    "    'Blmngtn': '2.4',\n",
    "    'Blueste': '3.2',\n",
    "    'BrDale': '4.6',\n",
    "    'BrkSide': '4.9',\n",
    "    'ClearCr': '3.8',\n",
    "    'CollgCr': '6.1',\n",
    "    'Crawfor': '3.2',\n",
    "    'Edwards': '8.9',\n",
    "    'Gilbert': '2.4',\n",
    "    'Greens': '8.4',\n",
    "    'GrnHill': '4.2',\n",
    "    'IDOTRR': '8.9',\n",
    "    'Landmrk': '8.4',\n",
    "    'MeadowV': '4.2',\n",
    "    'Mitchel': '4.2',\n",
    "    'NAmes': '5',\n",
    "    'NoRidge': '3.5',\n",
    "    'NPkVill': '4.6',\n",
    "    'NridgHt': '2.4',\n",
    "    'NWAmes': '3.5',\n",
    "    'OldTown': '4.9',\n",
    "    'Sawyer': '6.4',\n",
    "    'SawyerW': '6.4',\n",
    "    'Somerst': '4.6',\n",
    "    'StoneBr': '2.4',\n",
    "    'SWISU': '9.2',\n",
    "    'Timber': '4.2',\n",
    "    'Veenker': '6.4'\n",
    "}"
   ]
  },
  {
   "cell_type": "code",
   "execution_count": 123,
   "metadata": {},
   "outputs": [],
   "source": [
    "# replace the copied data with the dictionary data to create a new mapped column\n",
    "ames_train = ames_train.replace({'percent_pop': neighborhood_percentpop_dict})\n",
    "ames_test = ames_test.replace({'percent_pop': neighborhood_percentpop_dict})"
   ]
  },
  {
   "cell_type": "code",
   "execution_count": 124,
   "metadata": {},
   "outputs": [
    {
     "data": {
      "image/png": "[encoded data removed]",
      "text/plain": [
       "<Figure size 1152x720 with 1 Axes>"
      ]
     },
     "metadata": {
      "needs_background": "light"
     },
     "output_type": "display_data"
    }
   ],
   "source": [
    "neighborhood_bundle = ames_train.sort_values(by='saleprice', ascending=False)\n",
    "\n",
    "plt.figure(figsize=(16, 10))\n",
    "plt.barh(\n",
    "    y='n_code',\n",
    "    width='saleprice',\n",
    "    data=neighborhood_bundle\n",
    ")\n",
    "plt.title(\"Neighborhood and Saleprice Comparison\", fontdict={\"fontsize\": 24})\n",
    "plt.xlabel(\"Saleprice in Dollars\", fontsize = 16)\n",
    "plt.ylabel(\"Neighborhood\", fontsize = 16);"
   ]
  },
  {
   "cell_type": "markdown",
   "metadata": {},
   "source": [
    "## Prepare training data: split into training and validation sets"
   ]
  },
  {
   "cell_type": "code",
   "execution_count": 125,
   "metadata": {},
   "outputs": [],
   "source": [
    "features = ['id', 'ms_subclass', 'ms_zoning', 'neighborhood', 'n_code', 'percent_pop', 'condition_1', 'condition_2', 'overall_qual', 'overall_cond', 'year_built', 'year_remod_add', 'sale_type']\n",
    "X = ames_train[features]\n",
    "y = ames_train['saleprice']\n",
    "\n",
    "# drop 'pid' column data from test to match train\n",
    "ames_test = ames_test[['id', 'ms_subclass', 'ms_zoning', 'neighborhood', 'n_code', 'percent_pop', 'condition_1', 'condition_2', 'overall_qual', 'overall_cond', 'year_built', 'year_remod_add', 'sale_type']]"
   ]
  },
  {
   "cell_type": "code",
   "execution_count": 126,
   "metadata": {},
   "outputs": [],
   "source": [
    "X_train, X_val, y_train, y_val = train_test_split(\n",
    "    X,\n",
    "    y,\n",
    "    test_size=0.2,\n",
    "    random_state=37\n",
    ")"
   ]
  },
  {
   "cell_type": "code",
   "execution_count": 127,
   "metadata": {},
   "outputs": [
    {
     "name": "stdout",
     "output_type": "stream",
     "text": [
      "Shape of original data frame: (2051, 83)\n",
      " \n",
      "Shape of X train: (1640, 13)\n",
      "Shape of y train: (1640,)\n",
      " \n",
      "Shape of X validation: (411, 13)\n",
      "Shape of y validation: (411,)\n",
      " \n",
      "Shape of test: (878, 13)\n"
     ]
    }
   ],
   "source": [
    "# check shapes\n",
    "print(f\"Shape of original data frame: {ames_train.shape}\")\n",
    "print(\" \")\n",
    "print(f\"Shape of X train: {X_train.shape}\")\n",
    "print(f\"Shape of y train: {y_train.shape}\")\n",
    "print(\" \")\n",
    "print(f\"Shape of X validation: {X_val.shape}\")\n",
    "print(f\"Shape of y validation: {y_val.shape}\")\n",
    "print(\" \")\n",
    "print(f\"Shape of test: {ames_test.shape}\")"
   ]
  },
  {
   "cell_type": "markdown",
   "metadata": {},
   "source": [
    "### Data Dictionary and Save Cleaned CSV "
   ]
  },
  {
   "cell_type": "markdown",
   "metadata": {},
   "source": [
    "https://www.tablesgenerator.com/markdown_tables#\n",
    "\n",
    "|Feature|Type|Dataset|Description|\n",
    "|---|---|---|---|\n",
    "|**school_code**|*integer*|FRPM & ACT/SAT|The school code is a state number to identify schools. It is how all of the data frames connect.|\n",
    "|**charter_y_n**|*object*|FRPM|Yes or No; this school is a Charter School|\n",
    "|**school_name**|*object*|FRPM & ACT/SAT|School Name|"
   ]
  },
  {
   "cell_type": "code",
   "execution_count": 128,
   "metadata": {},
   "outputs": [],
   "source": [
    "# sns.pairplot(ames_train, vars=['saleprice', 'n_code', 'sale_type'])"
   ]
  },
  {
   "cell_type": "code",
   "execution_count": 129,
   "metadata": {},
   "outputs": [],
   "source": [
    "# sns.pairplot(ames_train, vars=['saleprice', 'ms_subclass', 'ms_zoning', 'neighborhood', 'n_code', 'condition_1', 'condition_2', 'overall_qual', 'overall_cond', 'year_built', 'year_remod_add', 'sale_type'])"
   ]
  },
  {
   "cell_type": "markdown",
   "metadata": {},
   "source": [
    "### Feature Engineering Continued\n",
    "Used value counts and info to verify the train/test/split features before preprocessing and modeling the data."
   ]
  },
  {
   "cell_type": "code",
   "execution_count": 130,
   "metadata": {},
   "outputs": [
    {
     "data": {
      "text/plain": [
       "N        721\n",
       "S        369\n",
       "E        257\n",
       "NW       197\n",
       "SWISU     94\n",
       "ISU        2\n",
       "Name: n_code, dtype: int64"
      ]
     },
     "execution_count": 130,
     "metadata": {},
     "output_type": "execute_result"
    }
   ],
   "source": [
    "X_train['n_code'].value_counts(ascending=False)"
   ]
  },
  {
   "cell_type": "code",
   "execution_count": 131,
   "metadata": {},
   "outputs": [
    {
     "data": {
      "text/html": [
       "<div>\n",
       "<style scoped>\n",
       "    .dataframe tbody tr th:only-of-type {\n",
       "        vertical-align: middle;\n",
       "    }\n",
       "\n",
       "    .dataframe tbody tr th {\n",
       "        vertical-align: top;\n",
       "    }\n",
       "\n",
       "    .dataframe thead th {\n",
       "        text-align: right;\n",
       "    }\n",
       "</style>\n",
       "<table border=\"1\" class=\"dataframe\">\n",
       "  <thead>\n",
       "    <tr style=\"text-align: right;\">\n",
       "      <th></th>\n",
       "      <th>id</th>\n",
       "      <th>ms_subclass</th>\n",
       "      <th>ms_zoning</th>\n",
       "      <th>neighborhood</th>\n",
       "      <th>n_code</th>\n",
       "      <th>percent_pop</th>\n",
       "      <th>condition_1</th>\n",
       "      <th>condition_2</th>\n",
       "      <th>overall_qual</th>\n",
       "      <th>overall_cond</th>\n",
       "      <th>year_built</th>\n",
       "      <th>year_remod_add</th>\n",
       "      <th>sale_type</th>\n",
       "    </tr>\n",
       "  </thead>\n",
       "  <tbody>\n",
       "    <tr>\n",
       "      <th>653</th>\n",
       "      <td>1417</td>\n",
       "      <td>50</td>\n",
       "      <td>RL</td>\n",
       "      <td>Edwards</td>\n",
       "      <td>S</td>\n",
       "      <td>8.9</td>\n",
       "      <td>Artery</td>\n",
       "      <td>Norm</td>\n",
       "      <td>6</td>\n",
       "      <td>5</td>\n",
       "      <td>1924</td>\n",
       "      <td>1950</td>\n",
       "      <td>WD</td>\n",
       "    </tr>\n",
       "    <tr>\n",
       "      <th>381</th>\n",
       "      <td>1005</td>\n",
       "      <td>60</td>\n",
       "      <td>RL</td>\n",
       "      <td>Gilbert</td>\n",
       "      <td>N</td>\n",
       "      <td>2.4</td>\n",
       "      <td>Norm</td>\n",
       "      <td>Norm</td>\n",
       "      <td>6</td>\n",
       "      <td>5</td>\n",
       "      <td>1998</td>\n",
       "      <td>1998</td>\n",
       "      <td>WD</td>\n",
       "    </tr>\n",
       "    <tr>\n",
       "      <th>176</th>\n",
       "      <td>2432</td>\n",
       "      <td>60</td>\n",
       "      <td>RL</td>\n",
       "      <td>Gilbert</td>\n",
       "      <td>N</td>\n",
       "      <td>2.4</td>\n",
       "      <td>Norm</td>\n",
       "      <td>Norm</td>\n",
       "      <td>6</td>\n",
       "      <td>5</td>\n",
       "      <td>2002</td>\n",
       "      <td>2003</td>\n",
       "      <td>WD</td>\n",
       "    </tr>\n",
       "    <tr>\n",
       "      <th>1283</th>\n",
       "      <td>2778</td>\n",
       "      <td>60</td>\n",
       "      <td>RL</td>\n",
       "      <td>CollgCr</td>\n",
       "      <td>S</td>\n",
       "      <td>6.1</td>\n",
       "      <td>Norm</td>\n",
       "      <td>Norm</td>\n",
       "      <td>7</td>\n",
       "      <td>5</td>\n",
       "      <td>1999</td>\n",
       "      <td>2000</td>\n",
       "      <td>WD</td>\n",
       "    </tr>\n",
       "    <tr>\n",
       "      <th>188</th>\n",
       "      <td>2569</td>\n",
       "      <td>60</td>\n",
       "      <td>RL</td>\n",
       "      <td>NAmes</td>\n",
       "      <td>N</td>\n",
       "      <td>5</td>\n",
       "      <td>Norm</td>\n",
       "      <td>Norm</td>\n",
       "      <td>7</td>\n",
       "      <td>6</td>\n",
       "      <td>1966</td>\n",
       "      <td>1966</td>\n",
       "      <td>WD</td>\n",
       "    </tr>\n",
       "  </tbody>\n",
       "</table>\n",
       "</div>"
      ],
      "text/plain": [
       "        id  ms_subclass ms_zoning neighborhood n_code percent_pop condition_1  \\\n",
       "653   1417           50        RL      Edwards      S         8.9      Artery   \n",
       "381   1005           60        RL      Gilbert      N         2.4        Norm   \n",
       "176   2432           60        RL      Gilbert      N         2.4        Norm   \n",
       "1283  2778           60        RL      CollgCr      S         6.1        Norm   \n",
       "188   2569           60        RL        NAmes      N           5        Norm   \n",
       "\n",
       "     condition_2  overall_qual  overall_cond  year_built  year_remod_add  \\\n",
       "653         Norm             6             5        1924            1950   \n",
       "381         Norm             6             5        1998            1998   \n",
       "176         Norm             6             5        2002            2003   \n",
       "1283        Norm             7             5        1999            2000   \n",
       "188         Norm             7             6        1966            1966   \n",
       "\n",
       "     sale_type  \n",
       "653        WD   \n",
       "381        WD   \n",
       "176        WD   \n",
       "1283       WD   \n",
       "188        WD   "
      ]
     },
     "execution_count": 131,
     "metadata": {},
     "output_type": "execute_result"
    }
   ],
   "source": [
    "X_train.head()"
   ]
  },
  {
   "cell_type": "code",
   "execution_count": 132,
   "metadata": {},
   "outputs": [
    {
     "name": "stdout",
     "output_type": "stream",
     "text": [
      "<class 'pandas.core.frame.DataFrame'>\n",
      "Int64Index: 1640 entries, 653 to 1935\n",
      "Data columns (total 13 columns):\n",
      " #   Column          Non-Null Count  Dtype \n",
      "---  ------          --------------  ----- \n",
      " 0   id              1640 non-null   int64 \n",
      " 1   ms_subclass     1640 non-null   int64 \n",
      " 2   ms_zoning       1640 non-null   object\n",
      " 3   neighborhood    1640 non-null   object\n",
      " 4   n_code          1640 non-null   object\n",
      " 5   percent_pop     1640 non-null   object\n",
      " 6   condition_1     1640 non-null   object\n",
      " 7   condition_2     1640 non-null   object\n",
      " 8   overall_qual    1640 non-null   int64 \n",
      " 9   overall_cond    1640 non-null   int64 \n",
      " 10  year_built      1640 non-null   int64 \n",
      " 11  year_remod_add  1640 non-null   int64 \n",
      " 12  sale_type       1640 non-null   object\n",
      "dtypes: int64(6), object(7)\n",
      "memory usage: 179.4+ KB\n"
     ]
    }
   ],
   "source": [
    "X_train.info()"
   ]
  },
  {
   "cell_type": "code",
   "execution_count": 133,
   "metadata": {},
   "outputs": [
    {
     "data": {
      "text/plain": [
       "RL         1271\n",
       "RM          260\n",
       "FV           80\n",
       "C (all)      17\n",
       "RH           11\n",
       "A (agr)       1\n",
       "Name: ms_zoning, dtype: int64"
      ]
     },
     "execution_count": 133,
     "metadata": {},
     "output_type": "execute_result"
    }
   ],
   "source": [
    "X_train['ms_zoning'].value_counts()"
   ]
  },
  {
   "cell_type": "code",
   "execution_count": 134,
   "metadata": {},
   "outputs": [
    {
     "data": {
      "text/plain": [
       "WD       1424\n",
       "New       122\n",
       "COD        56\n",
       "ConLD      12\n",
       "CWD         9\n",
       "ConLI       5\n",
       "ConLw       4\n",
       "Oth         4\n",
       "Con         4\n",
       "Name: sale_type, dtype: int64"
      ]
     },
     "execution_count": 134,
     "metadata": {},
     "output_type": "execute_result"
    }
   ],
   "source": [
    "X_train['sale_type'].value_counts()"
   ]
  },
  {
   "cell_type": "markdown",
   "metadata": {},
   "source": [
    "## Preprocessing and Modeling"
   ]
  },
  {
   "cell_type": "code",
   "execution_count": 135,
   "metadata": {},
   "outputs": [],
   "source": [
    "tr_id = X_train['id']\n",
    "val_id = X_val['id']\n",
    "\n",
    "X_train.drop(columns = ['id'], inplace = True)\n",
    "X_val.drop(columns = ['id'], inplace = True)"
   ]
  },
  {
   "cell_type": "code",
   "execution_count": 136,
   "metadata": {},
   "outputs": [],
   "source": [
    "# Dropping neighborhood columns from the data frame significantly decreased the effectiveness of the model, adding the data back in also helped with conclusions as smaller data chunks allowed for more precise analysis.\n",
    "# X_train.drop(columns = ['neighborhood'], inplace = True)\n",
    "# X_val.drop(columns = ['neighborhood'], inplace = True)"
   ]
  },
  {
   "cell_type": "code",
   "execution_count": 137,
   "metadata": {},
   "outputs": [],
   "source": [
    "# Created using the Extra, Extra Saturday class content and other class content\n",
    "\n",
    "number_data = [col for col in X_train._get_numeric_data().columns if col not in ['id', 'saleprice']]\n",
    "\n",
    "categorical_data = [col for col in X_train.columns if col not in number_data and col not in ['id', 'saleprice']]\n",
    "\n",
    "ctx = ColumnTransformer(\n",
    "    [('ss', StandardScaler(), number_data),\n",
    "    ('ohe', OneHotEncoder(handle_unknown='ignore', dtype=np.int64, ), categorical_data)\n",
    "    ]\n",
    ")\n",
    "\n",
    "# Linear Regression Pipeline\n",
    "lr_pipe = Pipeline([\n",
    "    ('ctx', ctx),\n",
    "    ('poly', PolynomialFeatures()),\n",
    "    ('lr', TransformedTargetRegressor(LinearRegression(), func=np.log, inverse_func=np.exp))\n",
    "])\n",
    "\n",
    "# Ridge Pipeline\n",
    "rg_pipe = Pipeline([\n",
    "    ('ctx', ctx),\n",
    "    ('poly', PolynomialFeatures()),\n",
    "    ('rg', TransformedTargetRegressor(Ridge(), func=np.log, inverse_func=np.exp))\n",
    "])\n",
    "\n",
    "# Lasso Pipeline\n",
    "lasso_pipe = Pipeline([\n",
    "    ('ctx', ctx),\n",
    "    ('poly', PolynomialFeatures()),\n",
    "    ('lasso', TransformedTargetRegressor(Lasso(), func=np.log, inverse_func=np.exp))\n",
    "])\n",
    "\n",
    "# ElasticNet Pipeline\n",
    "elasticnet_pipe = Pipeline([\n",
    "    ('ctx', ctx),\n",
    "    ('poly', PolynomialFeatures()),\n",
    "    ('enet', TransformedTargetRegressor(ElasticNet(), func=np.log, inverse_func=np.exp))\n",
    "])\n",
    "\n",
    "# KNeighborsRegressor Pipeline\n",
    "knn_pipe = Pipeline([\n",
    "    ('ctx', ctx),\n",
    "    ('poly', PolynomialFeatures()),\n",
    "    ('knn', TransformedTargetRegressor(KNeighborsRegressor(), func=np.log, inverse_func=np.exp))\n",
    "])\n",
    "\n"
   ]
  },
  {
   "cell_type": "code",
   "execution_count": 138,
   "metadata": {},
   "outputs": [
    {
     "data": {
      "text/plain": [
       "GridSearchCV(cv=5,\n",
       "             estimator=Pipeline(steps=[('ctx',\n",
       "                                        ColumnTransformer(transformers=[('ss',\n",
       "                                                                         StandardScaler(),\n",
       "                                                                         ['ms_subclass',\n",
       "                                                                          'overall_qual',\n",
       "                                                                          'overall_cond',\n",
       "                                                                          'year_built',\n",
       "                                                                          'year_remod_add']),\n",
       "                                                                        ('ohe',\n",
       "                                                                         OneHotEncoder(dtype=<class 'numpy.int64'>,\n",
       "                                                                                       handle_unknown='ignore'),\n",
       "                                                                         ['ms_zoning',\n",
       "                                                                          'neighborhood',\n",
       "                                                                          'n_code',\n",
       "                                                                          'percent_pop',\n",
       "                                                                          'condition_1',\n",
       "                                                                          'condition_2',\n",
       "                                                                          'sale_type'])])),\n",
       "                                       ('poly', PolynomialFeatures()),\n",
       "                                       ('rg',\n",
       "                                        TransformedTargetRegressor(func=<ufunc 'log'>,\n",
       "                                                                   inverse_func=<ufunc 'exp'>,\n",
       "                                                                   regressor=Ridge()))]),\n",
       "             param_grid={'ctx__remainder': ['passthrough'],\n",
       "                         'ctx__ss__with_mean': [True, False],\n",
       "                         'rg__regressor__alpha': [0.001, 0.01, 0.1, 1000]})"
      ]
     },
     "execution_count": 138,
     "metadata": {},
     "output_type": "execute_result"
    }
   ],
   "source": [
    "rg_params = {\n",
    "    'ctx__remainder' : ['passthrough'], # keep untransformed columns and do nothing\n",
    "    'ctx__ss__with_mean' : [True, False],\n",
    "    'rg__regressor__alpha' : [0.001, .01, .1, 1000]\n",
    "}\n",
    "\n",
    "lasso_params = {\n",
    "    'ctx__remainder' : ['passthrough'], \n",
    "    'ctx__regressor__alpha' : np.linspace(.001, 10, 100, 1000),\n",
    "    'lr__regressor__max_iter' : [10000]\n",
    "}\n",
    "\n",
    "ctx = {\n",
    "    'poly__degree' : [1, 2, 3],\n",
    "    'poly__include_bias' : [False],\n",
    "    'poly__interaction_only' : [True, False]\n",
    "}\n",
    "\n",
    "gs = GridSearchCV(\n",
    "    rg_pipe,\n",
    "    rg_params,\n",
    "    cv=5\n",
    ")\n",
    "gs.fit(X_train, y_train)"
   ]
  },
  {
   "cell_type": "code",
   "execution_count": 139,
   "metadata": {},
   "outputs": [
    {
     "data": {
      "text/plain": [
       "0.7677337715476515"
      ]
     },
     "execution_count": 139,
     "metadata": {},
     "output_type": "execute_result"
    }
   ],
   "source": [
    "# Final set of best scores from the above model after submitting to Kaggle, adjusting the model based on params, and re-engineering the features for a new train/test/split.\n",
    "gs.best_score_"
   ]
  },
  {
   "cell_type": "code",
   "execution_count": 140,
   "metadata": {},
   "outputs": [
    {
     "data": {
      "text/plain": [
       "0.7679354835798964"
      ]
     },
     "execution_count": 140,
     "metadata": {},
     "output_type": "execute_result"
    }
   ],
   "source": [
    "gs.score(X_val, y_val)"
   ]
  },
  {
   "cell_type": "code",
   "execution_count": 141,
   "metadata": {},
   "outputs": [
    {
     "data": {
      "text/plain": [
       "{'ctx__remainder': 'passthrough',\n",
       " 'ctx__ss__with_mean': False,\n",
       " 'rg__regressor__alpha': 1000}"
      ]
     },
     "execution_count": 141,
     "metadata": {},
     "output_type": "execute_result"
    }
   ],
   "source": [
    "gs.best_params_"
   ]
  },
  {
   "cell_type": "code",
   "execution_count": 142,
   "metadata": {},
   "outputs": [
    {
     "data": {
      "text/plain": [
       "Pipeline(steps=[('ctx',\n",
       "                 ColumnTransformer(remainder='passthrough',\n",
       "                                   transformers=[('ss',\n",
       "                                                  StandardScaler(with_mean=False),\n",
       "                                                  ['ms_subclass',\n",
       "                                                   'overall_qual',\n",
       "                                                   'overall_cond', 'year_built',\n",
       "                                                   'year_remod_add']),\n",
       "                                                 ('ohe',\n",
       "                                                  OneHotEncoder(dtype=<class 'numpy.int64'>,\n",
       "                                                                handle_unknown='ignore'),\n",
       "                                                  ['ms_zoning', 'neighborhood',\n",
       "                                                   'n_code', 'percent_pop',\n",
       "                                                   'condition_1', 'condition_2',\n",
       "                                                   'sale_type'])])),\n",
       "                ('poly', PolynomialFeatures()),\n",
       "                ('rg',\n",
       "                 TransformedTargetRegressor(func=<ufunc 'log'>,\n",
       "                                            inverse_func=<ufunc 'exp'>,\n",
       "                                            regressor=Ridge(alpha=1000)))])"
      ]
     },
     "execution_count": 142,
     "metadata": {},
     "output_type": "execute_result"
    }
   ],
   "source": [
    "gs.best_estimator_"
   ]
  },
  {
   "cell_type": "markdown",
   "metadata": {},
   "source": [
    "## Kaggle Submissions Preparation\n",
    "Final submission process and data frame is below. "
   ]
  },
  {
   "cell_type": "code",
   "execution_count": 143,
   "metadata": {},
   "outputs": [],
   "source": [
    "test_id = ames_test['id']"
   ]
  },
  {
   "cell_type": "code",
   "execution_count": 144,
   "metadata": {},
   "outputs": [],
   "source": [
    "preds = gs.predict(ames_test)\n",
    "preds = pd.DataFrame(preds, columns=['saleprice'])"
   ]
  },
  {
   "cell_type": "code",
   "execution_count": 145,
   "metadata": {},
   "outputs": [],
   "source": [
    "preds.insert(loc = 0, column = 'id', value = test_id)"
   ]
  },
  {
   "cell_type": "code",
   "execution_count": 146,
   "metadata": {},
   "outputs": [
    {
     "data": {
      "text/html": [
       "<div>\n",
       "<style scoped>\n",
       "    .dataframe tbody tr th:only-of-type {\n",
       "        vertical-align: middle;\n",
       "    }\n",
       "\n",
       "    .dataframe tbody tr th {\n",
       "        vertical-align: top;\n",
       "    }\n",
       "\n",
       "    .dataframe thead th {\n",
       "        text-align: right;\n",
       "    }\n",
       "</style>\n",
       "<table border=\"1\" class=\"dataframe\">\n",
       "  <thead>\n",
       "    <tr style=\"text-align: right;\">\n",
       "      <th></th>\n",
       "      <th>id</th>\n",
       "      <th>saleprice</th>\n",
       "    </tr>\n",
       "  </thead>\n",
       "  <tbody>\n",
       "    <tr>\n",
       "      <th>0</th>\n",
       "      <td>2658</td>\n",
       "      <td>128086.763109</td>\n",
       "    </tr>\n",
       "    <tr>\n",
       "      <th>1</th>\n",
       "      <td>2718</td>\n",
       "      <td>134855.961519</td>\n",
       "    </tr>\n",
       "    <tr>\n",
       "      <th>2</th>\n",
       "      <td>2414</td>\n",
       "      <td>210227.171457</td>\n",
       "    </tr>\n",
       "    <tr>\n",
       "      <th>3</th>\n",
       "      <td>1989</td>\n",
       "      <td>116325.388617</td>\n",
       "    </tr>\n",
       "    <tr>\n",
       "      <th>4</th>\n",
       "      <td>625</td>\n",
       "      <td>156802.645174</td>\n",
       "    </tr>\n",
       "  </tbody>\n",
       "</table>\n",
       "</div>"
      ],
      "text/plain": [
       "     id      saleprice\n",
       "0  2658  128086.763109\n",
       "1  2718  134855.961519\n",
       "2  2414  210227.171457\n",
       "3  1989  116325.388617\n",
       "4   625  156802.645174"
      ]
     },
     "execution_count": 146,
     "metadata": {},
     "output_type": "execute_result"
    }
   ],
   "source": [
    "preds.head()"
   ]
  },
  {
   "cell_type": "code",
   "execution_count": 147,
   "metadata": {},
   "outputs": [
    {
     "data": {
      "text/plain": [
       "(878, 2)"
      ]
     },
     "execution_count": 147,
     "metadata": {},
     "output_type": "execute_result"
    }
   ],
   "source": [
    "preds.shape"
   ]
  },
  {
   "cell_type": "code",
   "execution_count": 148,
   "metadata": {},
   "outputs": [],
   "source": [
    "preds.to_csv('../submissions/pipe_gs_8.csv', index = False)"
   ]
  },
  {
   "cell_type": "code",
   "execution_count": 149,
   "metadata": {},
   "outputs": [],
   "source": [
    "# https://www.analyticsvidhya.com/blog/2021/05/how-to-perform-one-hot-encoding-for-multi-categorical-variables/\n",
    "# [['ms_zoning', 'neighborhood', 'condition_1', 'condition_2', 'sale_type']]"
   ]
  },
  {
   "cell_type": "markdown",
   "metadata": {},
   "source": [
    "## Evaluate Models"
   ]
  },
  {
   "cell_type": "code",
   "execution_count": 150,
   "metadata": {},
   "outputs": [
    {
     "data": {
      "text/html": [
       "<div>\n",
       "<style scoped>\n",
       "    .dataframe tbody tr th:only-of-type {\n",
       "        vertical-align: middle;\n",
       "    }\n",
       "\n",
       "    .dataframe tbody tr th {\n",
       "        vertical-align: top;\n",
       "    }\n",
       "\n",
       "    .dataframe thead th {\n",
       "        text-align: right;\n",
       "    }\n",
       "</style>\n",
       "<table border=\"1\" class=\"dataframe\">\n",
       "  <thead>\n",
       "    <tr style=\"text-align: right;\">\n",
       "      <th></th>\n",
       "      <th>mean_fit_time</th>\n",
       "      <th>std_fit_time</th>\n",
       "      <th>mean_score_time</th>\n",
       "      <th>std_score_time</th>\n",
       "      <th>param_ctx__remainder</th>\n",
       "      <th>param_ctx__ss__with_mean</th>\n",
       "      <th>param_rg__regressor__alpha</th>\n",
       "      <th>params</th>\n",
       "      <th>split0_test_score</th>\n",
       "      <th>split1_test_score</th>\n",
       "      <th>split2_test_score</th>\n",
       "      <th>split3_test_score</th>\n",
       "      <th>split4_test_score</th>\n",
       "      <th>mean_test_score</th>\n",
       "      <th>std_test_score</th>\n",
       "      <th>rank_test_score</th>\n",
       "    </tr>\n",
       "  </thead>\n",
       "  <tbody>\n",
       "    <tr>\n",
       "      <th>7</th>\n",
       "      <td>0.067716</td>\n",
       "      <td>0.002068</td>\n",
       "      <td>0.004228</td>\n",
       "      <td>0.003792</td>\n",
       "      <td>passthrough</td>\n",
       "      <td>False</td>\n",
       "      <td>1000</td>\n",
       "      <td>{'ctx__remainder': 'passthrough', 'ctx__ss__wi...</td>\n",
       "      <td>0.696559</td>\n",
       "      <td>0.815515</td>\n",
       "      <td>0.766307</td>\n",
       "      <td>0.784011</td>\n",
       "      <td>0.776276</td>\n",
       "      <td>0.767734</td>\n",
       "      <td>0.039215</td>\n",
       "      <td>1</td>\n",
       "    </tr>\n",
       "    <tr>\n",
       "      <th>3</th>\n",
       "      <td>0.026564</td>\n",
       "      <td>0.010013</td>\n",
       "      <td>0.012164</td>\n",
       "      <td>0.008061</td>\n",
       "      <td>passthrough</td>\n",
       "      <td>True</td>\n",
       "      <td>1000</td>\n",
       "      <td>{'ctx__remainder': 'passthrough', 'ctx__ss__wi...</td>\n",
       "      <td>0.736279</td>\n",
       "      <td>0.763932</td>\n",
       "      <td>0.733866</td>\n",
       "      <td>0.761747</td>\n",
       "      <td>0.729355</td>\n",
       "      <td>0.745036</td>\n",
       "      <td>0.014722</td>\n",
       "      <td>2</td>\n",
       "    </tr>\n",
       "    <tr>\n",
       "      <th>2</th>\n",
       "      <td>0.188532</td>\n",
       "      <td>0.010902</td>\n",
       "      <td>0.007148</td>\n",
       "      <td>0.007251</td>\n",
       "      <td>passthrough</td>\n",
       "      <td>True</td>\n",
       "      <td>0.1</td>\n",
       "      <td>{'ctx__remainder': 'passthrough', 'ctx__ss__wi...</td>\n",
       "      <td>0.688138</td>\n",
       "      <td>0.771365</td>\n",
       "      <td>0.532595</td>\n",
       "      <td>0.535519</td>\n",
       "      <td>0.699147</td>\n",
       "      <td>0.645353</td>\n",
       "      <td>0.095269</td>\n",
       "      <td>3</td>\n",
       "    </tr>\n",
       "    <tr>\n",
       "      <th>6</th>\n",
       "      <td>2.133328</td>\n",
       "      <td>0.110138</td>\n",
       "      <td>0.006851</td>\n",
       "      <td>0.008127</td>\n",
       "      <td>passthrough</td>\n",
       "      <td>False</td>\n",
       "      <td>0.1</td>\n",
       "      <td>{'ctx__remainder': 'passthrough', 'ctx__ss__wi...</td>\n",
       "      <td>0.347131</td>\n",
       "      <td>0.777628</td>\n",
       "      <td>0.498646</td>\n",
       "      <td>-0.033651</td>\n",
       "      <td>0.680787</td>\n",
       "      <td>0.454108</td>\n",
       "      <td>0.285442</td>\n",
       "      <td>4</td>\n",
       "    </tr>\n",
       "    <tr>\n",
       "      <th>1</th>\n",
       "      <td>0.496347</td>\n",
       "      <td>0.026555</td>\n",
       "      <td>0.005867</td>\n",
       "      <td>0.003075</td>\n",
       "      <td>passthrough</td>\n",
       "      <td>True</td>\n",
       "      <td>0.01</td>\n",
       "      <td>{'ctx__remainder': 'passthrough', 'ctx__ss__wi...</td>\n",
       "      <td>0.609273</td>\n",
       "      <td>0.749695</td>\n",
       "      <td>-0.001922</td>\n",
       "      <td>0.190122</td>\n",
       "      <td>0.593355</td>\n",
       "      <td>0.428104</td>\n",
       "      <td>0.284643</td>\n",
       "      <td>5</td>\n",
       "    </tr>\n",
       "  </tbody>\n",
       "</table>\n",
       "</div>"
      ],
      "text/plain": [
       "   mean_fit_time  std_fit_time  mean_score_time  std_score_time  \\\n",
       "7       0.067716      0.002068         0.004228        0.003792   \n",
       "3       0.026564      0.010013         0.012164        0.008061   \n",
       "2       0.188532      0.010902         0.007148        0.007251   \n",
       "6       2.133328      0.110138         0.006851        0.008127   \n",
       "1       0.496347      0.026555         0.005867        0.003075   \n",
       "\n",
       "  param_ctx__remainder param_ctx__ss__with_mean param_rg__regressor__alpha  \\\n",
       "7          passthrough                    False                       1000   \n",
       "3          passthrough                     True                       1000   \n",
       "2          passthrough                     True                        0.1   \n",
       "6          passthrough                    False                        0.1   \n",
       "1          passthrough                     True                       0.01   \n",
       "\n",
       "                                              params  split0_test_score  \\\n",
       "7  {'ctx__remainder': 'passthrough', 'ctx__ss__wi...           0.696559   \n",
       "3  {'ctx__remainder': 'passthrough', 'ctx__ss__wi...           0.736279   \n",
       "2  {'ctx__remainder': 'passthrough', 'ctx__ss__wi...           0.688138   \n",
       "6  {'ctx__remainder': 'passthrough', 'ctx__ss__wi...           0.347131   \n",
       "1  {'ctx__remainder': 'passthrough', 'ctx__ss__wi...           0.609273   \n",
       "\n",
       "   split1_test_score  split2_test_score  split3_test_score  split4_test_score  \\\n",
       "7           0.815515           0.766307           0.784011           0.776276   \n",
       "3           0.763932           0.733866           0.761747           0.729355   \n",
       "2           0.771365           0.532595           0.535519           0.699147   \n",
       "6           0.777628           0.498646          -0.033651           0.680787   \n",
       "1           0.749695          -0.001922           0.190122           0.593355   \n",
       "\n",
       "   mean_test_score  std_test_score  rank_test_score  \n",
       "7         0.767734        0.039215                1  \n",
       "3         0.745036        0.014722                2  \n",
       "2         0.645353        0.095269                3  \n",
       "6         0.454108        0.285442                4  \n",
       "1         0.428104        0.284643                5  "
      ]
     },
     "execution_count": 150,
     "metadata": {},
     "output_type": "execute_result"
    }
   ],
   "source": [
    "pd.DataFrame(gs.cv_results_).sort_values('rank_test_score').head()"
   ]
  },
  {
   "cell_type": "code",
   "execution_count": 225,
   "metadata": {},
   "outputs": [
    {
     "name": "stdout",
     "output_type": "stream",
     "text": [
      "Six Regression Metrics calculated for Train:/\n",
      "23636.613548819474\n",
      "1876527331727.0093\n",
      "1144223982.7603714\n",
      "33826.3799830897\n",
      "0.8038773370092451\n",
      "0.8107987900954257\n",
      "  \n",
      "Six Regression Metrics calculated for Validation:\n",
      "26756.159905920733\n",
      "766190673159.5181\n",
      "1864210883.5998006\n",
      "43176.50846930308\n",
      "0.7679354835798964\n",
      "0.7950163318673487\n"
     ]
    }
   ],
   "source": [
    "print('Six Regression Metrics calculated for Train:/')\n",
    "print(mean_absolute_error(y_train, gs.predict(X_train)))   # MAE\n",
    "print(np.sum(np.square(gs.predict(X_train) - y_train)))  # SSE \n",
    "print(mean_squared_error(y_train, gs.predict(X_train)))  # MSE\n",
    "print(mean_squared_error(y_train, gs.predict(X_train))**0.5)  # RMSE\n",
    "print(r2_score(y_train, gs.predict(X_train)))  # R2\n",
    "print(1-(1-r2_score(y_train, gs.predict(X_train))*(len(y_train-1)/(len(y_train)-len(features)-1)))) #R2 adj\n",
    "print('  ')\n",
    "print('Six Regression Metrics calculated for Validation:')\n",
    "print(mean_absolute_error(y_val, gs.predict(X_val)))   # MAE\n",
    "print(np.sum(np.square(gs.predict(X_val) - y_val)))  # SSE \n",
    "print(mean_squared_error(y_val, gs.predict(X_val)))  # MSE\n",
    "print(mean_squared_error(y_val, gs.predict(X_val))**0.5)  # RMSE\n",
    "print(r2_score(y_val, gs.predict(X_val)))  # R2\n",
    "print(1-(1-r2_score(y_val, gs.predict(X_val))*(len(y_val-1)/(len(y_val)-len(features)-1)))) #R2 adj"
   ]
  },
  {
   "cell_type": "code",
   "execution_count": 223,
   "metadata": {},
   "outputs": [
    {
     "name": "stdout",
     "output_type": "stream",
     "text": [
      "23636.613548819474\n"
     ]
    },
    {
     "data": {
      "text/plain": [
       "26756.159905920733"
      ]
     },
     "execution_count": 223,
     "metadata": {},
     "output_type": "execute_result"
    }
   ],
   "source": [
    "# Mean Absolute Error of Train\n",
    "print(mean_absolute_error(y_train, gs.predict(X_train)))\n",
    "# Mean Absolute Error of Validation\n",
    "(mean_absolute_error(y_val, gs.predict(X_val)))"
   ]
  },
  {
   "cell_type": "code",
   "execution_count": 210,
   "metadata": {},
   "outputs": [
    {
     "data": {
      "text/plain": [
       "1144223982.7603714"
      ]
     },
     "execution_count": 210,
     "metadata": {},
     "output_type": "execute_result"
    }
   ],
   "source": [
    "# Mean Squared Error (MSE) of Train\n",
    "mean_squared_error(y_train, gs.predict(X_train))\n",
    "# Mean Squared Error (MSE) of Validation\n",
    "mean_squared_error(y_val, gs.predict(X_val))"
   ]
  },
  {
   "cell_type": "code",
   "execution_count": 208,
   "metadata": {},
   "outputs": [
    {
     "data": {
      "text/plain": [
       "33826.3799830897"
      ]
     },
     "execution_count": 208,
     "metadata": {},
     "output_type": "execute_result"
    }
   ],
   "source": [
    "# Root Mean Squared Error (RMSE) of Train\n",
    "mean_squared_error(y_train, gs.predict(X_train))**0.5\n",
    "# Root Mean Squared Error (RMSE) of Validation\n",
    "mean_squared_error(y_val, gs.predict(X_val))**0.5"
   ]
  },
  {
   "cell_type": "code",
   "execution_count": 217,
   "metadata": {},
   "outputs": [
    {
     "data": {
      "text/plain": [
       "0.7679354835798964"
      ]
     },
     "execution_count": 217,
     "metadata": {},
     "output_type": "execute_result"
    }
   ],
   "source": [
    "r2_score(y_train, gs.predict(X_train))\n",
    "\n",
    "r2_score(y_val, gs.predict(X_val))"
   ]
  },
  {
   "cell_type": "code",
   "execution_count": 198,
   "metadata": {},
   "outputs": [
    {
     "data": {
      "text/plain": [
       "181469.70160897123"
      ]
     },
     "execution_count": 198,
     "metadata": {},
     "output_type": "execute_result"
    }
   ],
   "source": [
    "# Calculate null predictions \n",
    "preds_null = np.full_like(y, y.mean())\n",
    "preds_null"
   ]
  },
  {
   "cell_type": "markdown",
   "metadata": {},
   "source": [
    "## Visualize the Data and Models"
   ]
  },
  {
   "cell_type": "code",
   "execution_count": null,
   "metadata": {},
   "outputs": [
    {
     "ename": "NameError",
     "evalue": "name 'frpm_act_sat' is not defined",
     "output_type": "error",
     "traceback": [
      "\u001b[1;31m---------------------------------------------------------------------------\u001b[0m",
      "\u001b[1;31mNameError\u001b[0m                                 Traceback (most recent call last)",
      "\u001b[1;32m~\\AppData\\Local\\Temp/ipykernel_15792/1114323817.py\u001b[0m in \u001b[0;36m<module>\u001b[1;34m\u001b[0m\n\u001b[0;32m      1\u001b[0m \u001b[1;31m# 1. Correlation Heatmap\u001b[0m\u001b[1;33m\u001b[0m\u001b[1;33m\u001b[0m\u001b[1;33m\u001b[0m\u001b[0m\n\u001b[0;32m      2\u001b[0m \u001b[0mplt\u001b[0m\u001b[1;33m.\u001b[0m\u001b[0mfigure\u001b[0m\u001b[1;33m(\u001b[0m\u001b[0mfigsize\u001b[0m\u001b[1;33m=\u001b[0m\u001b[1;33m(\u001b[0m\u001b[1;36m12\u001b[0m\u001b[1;33m,\u001b[0m\u001b[1;36m12\u001b[0m\u001b[1;33m)\u001b[0m\u001b[1;33m)\u001b[0m\u001b[1;33m\u001b[0m\u001b[1;33m\u001b[0m\u001b[0m\n\u001b[1;32m----> 3\u001b[1;33m \u001b[0mmask\u001b[0m \u001b[1;33m=\u001b[0m \u001b[0mnp\u001b[0m\u001b[1;33m.\u001b[0m\u001b[0mtriu\u001b[0m\u001b[1;33m(\u001b[0m\u001b[0mnp\u001b[0m\u001b[1;33m.\u001b[0m\u001b[0mones_like\u001b[0m\u001b[1;33m(\u001b[0m\u001b[0mfrpm_act_sat\u001b[0m\u001b[1;33m.\u001b[0m\u001b[0mcorr\u001b[0m\u001b[1;33m(\u001b[0m\u001b[1;33m)\u001b[0m\u001b[1;33m,\u001b[0m \u001b[0mdtype\u001b[0m\u001b[1;33m=\u001b[0m\u001b[0mbool\u001b[0m\u001b[1;33m)\u001b[0m\u001b[1;33m)\u001b[0m\u001b[1;33m\u001b[0m\u001b[1;33m\u001b[0m\u001b[0m\n\u001b[0m\u001b[0;32m      4\u001b[0m \u001b[0msns\u001b[0m\u001b[1;33m.\u001b[0m\u001b[0mheatmap\u001b[0m\u001b[1;33m(\u001b[0m\u001b[0mfrpm_act_sat\u001b[0m\u001b[1;33m.\u001b[0m\u001b[0mcorr\u001b[0m\u001b[1;33m(\u001b[0m\u001b[1;33m)\u001b[0m\u001b[1;33m,\u001b[0m \u001b[0mvmin\u001b[0m\u001b[1;33m=\u001b[0m\u001b[1;33m-\u001b[0m\u001b[1;36m1\u001b[0m\u001b[1;33m,\u001b[0m \u001b[0mvmax\u001b[0m\u001b[1;33m=\u001b[0m\u001b[1;36m1\u001b[0m\u001b[1;33m,\u001b[0m \u001b[0mcmap\u001b[0m\u001b[1;33m=\u001b[0m\u001b[1;34m'ocean'\u001b[0m\u001b[1;33m,\u001b[0m \u001b[0mmask\u001b[0m\u001b[1;33m=\u001b[0m\u001b[0mmask\u001b[0m\u001b[1;33m,\u001b[0m \u001b[0mannot\u001b[0m\u001b[1;33m=\u001b[0m\u001b[1;32mTrue\u001b[0m\u001b[1;33m)\u001b[0m\u001b[1;33m\u001b[0m\u001b[1;33m\u001b[0m\u001b[0m\n\u001b[0;32m      5\u001b[0m \u001b[0mplt\u001b[0m\u001b[1;33m.\u001b[0m\u001b[0mtitle\u001b[0m\u001b[1;33m(\u001b[0m\u001b[1;34m'FRPM Compared to SAT & ACT Scores'\u001b[0m\u001b[1;33m,\u001b[0m \u001b[0mfontsize\u001b[0m\u001b[1;33m=\u001b[0m\u001b[1;36m22\u001b[0m\u001b[1;33m)\u001b[0m\u001b[1;33m;\u001b[0m\u001b[1;33m\u001b[0m\u001b[1;33m\u001b[0m\u001b[0m\n",
      "\u001b[1;31mNameError\u001b[0m: name 'frpm_act_sat' is not defined"
     ]
    },
    {
     "data": {
      "text/plain": [
       "<Figure size 864x864 with 0 Axes>"
      ]
     },
     "metadata": {},
     "output_type": "display_data"
    }
   ],
   "source": [
    "# 1. Correlation Heatmap \n",
    "plt.figure(figsize=(12,12))\n",
    "mask = np.triu(np.ones_like(ames_train.corr(), dtype=bool))\n",
    "sns.heatmap(ames_train.corr(), vmin=-1, vmax=1, cmap='ocean', mask=mask, annot=True)\n",
    "plt.title('FRPM Compared to SAT & ACT Scores', fontsize=22);"
   ]
  },
  {
   "cell_type": "markdown",
   "metadata": {},
   "source": [
    "## Answer Problem, Conclusions, and Recommendations"
   ]
  },
  {
   "cell_type": "code",
   "execution_count": null,
   "metadata": {},
   "outputs": [],
   "source": []
  },
  {
   "cell_type": "markdown",
   "metadata": {},
   "source": [
    "## Sources:\n",
    "\n",
    "* Ames, Iowa Assessor's Office http://jse.amstat.org/v19n3/decock/DataDocumentation.txt"
   ]
  }
 ],
 "metadata": {
  "interpreter": {
   "hash": "5f2c757ba6faed44dd25c45dea02c7b2ee52fced49f565c4812f8f82458a9a02"
  },
  "kernelspec": {
   "display_name": "Python 3.8.12 ('base')",
   "language": "python",
   "name": "python3"
  },
  "language_info": {
   "codemirror_mode": {
    "name": "ipython",
    "version": 3
   },
   "file_extension": ".py",
   "mimetype": "text/x-python",
   "name": "python",
   "nbconvert_exporter": "python",
   "pygments_lexer": "ipython3",
   "version": "3.8.12"
  },
  "orig_nbformat": 4
 },
 "nbformat": 4,
 "nbformat_minor": 2
}
